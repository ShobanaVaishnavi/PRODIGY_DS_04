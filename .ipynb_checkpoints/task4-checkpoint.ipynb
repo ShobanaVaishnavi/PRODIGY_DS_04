{
 "cells": [
  {
   "cell_type": "code",
   "execution_count": null,
   "id": "f17db5fb-05ed-41a8-8428-cc73a88165ed",
   "metadata": {},
   "outputs": [],
   "source": []
  }
 ],
 "metadata": {
  "kernelspec": {
   "display_name": "Python 3 (ipykernel)",
   "language": "python",
   "name": "python3"
  },
  "language_info": {
   "codemirror_mode": {
    "name": "ipython",
    "version": 3
   },
   "file_extension": ".py",
   "mimetype": "text/x-python",
   "name": "python",
   "nbconvert_exporter": "python",
   "pygments_lexer": "ipython3",
   "version": "3.12.1"
  }
 },
 "nbformat": 4,
 "nbformat_minor": 5
}
